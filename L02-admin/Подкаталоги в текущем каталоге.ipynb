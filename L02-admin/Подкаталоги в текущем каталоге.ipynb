{
 "cells": [
  {
   "cell_type": "markdown",
   "metadata": {},
   "source": [
    "### Определяем подкаталоги в текущем каталоге"
   ]
  },
  {
   "cell_type": "markdown",
   "metadata": {},
   "source": [
    "Обозначим текущий каталог:"
   ]
  },
  {
   "cell_type": "code",
   "execution_count": null,
   "metadata": {},
   "outputs": [],
   "source": [
    "path = \"./\""
   ]
  },
  {
   "cell_type": "markdown",
   "metadata": {},
   "source": [
    "**Способ 1**\n",
    "\n",
    "Вытаскиваем все файлы из каталога:"
   ]
  },
  {
   "cell_type": "code",
   "execution_count": null,
   "metadata": {},
   "outputs": [],
   "source": [
    "import os\n",
    "os.listdir(path) # не включает специальные записи '.'и '..'"
   ]
  },
  {
   "cell_type": "markdown",
   "metadata": {},
   "source": [
    "Самый простой способ определить каталог:"
   ]
  },
  {
   "cell_type": "code",
   "execution_count": null,
   "metadata": {},
   "outputs": [],
   "source": [
    "import os\n",
    "\n",
    "dir_list = []\n",
    "for item in os.listdir(path):\n",
    "    if os.path.isdir(item):\n",
    "        dir_list.append(item)\n",
    "\n",
    "dir_list"
   ]
  },
  {
   "cell_type": "markdown",
   "metadata": {},
   "source": [
    "**Способ 2**\n",
    "\n",
    "Для глубокого анализа содержимого каталога лучше использовать функцию [scandir()](https://docs.python.org/3/library/os.html?highlight=scandir#os.scandir), которая возвращает [итератор](https://docs.python.org/3/library/os.html?highlight=scandir#os.DirEntry):"
   ]
  },
  {
   "cell_type": "code",
   "execution_count": null,
   "metadata": {},
   "outputs": [],
   "source": [
    "dir_list = []\n",
    "\n",
    "with os.scandir(path) as it: # лучше использовать менеджер контекста, чтобы освободить ресурсы\n",
    "    for entry in it:\n",
    "        if entry.is_dir(): # здесь есть нужный нам метод\n",
    "            dir_list.append(entry.name)\n",
    "dir_list"
   ]
  },
  {
   "cell_type": "markdown",
   "metadata": {},
   "source": [
    "**Способ 3**\n",
    "\n",
    "Сложность работы с файлами и каталогами состоит в различиях на уровне ОС, поэтому см. модуль [pathlib](https://docs.python.org/3/library/pathlib.html), созданный в [ООП-стиле](http://blog.dfedorov.spb.ru/all/paradigmy-v-myshlenii-programmista/)."
   ]
  },
  {
   "cell_type": "code",
   "execution_count": null,
   "metadata": {},
   "outputs": [],
   "source": [
    "from pathlib import Path\n",
    "p = Path(path)\n",
    "type(p)"
   ]
  },
  {
   "cell_type": "markdown",
   "metadata": {},
   "source": [
    "Модуль работает с типом данных pathlib.PosixPath, но мы ничего не боимся и смело преобразуем все в строку:"
   ]
  },
  {
   "cell_type": "code",
   "execution_count": null,
   "metadata": {},
   "outputs": [],
   "source": [
    "[str(x) for x in p.iterdir() if x.is_dir()]"
   ]
  },
  {
   "cell_type": "markdown",
   "metadata": {},
   "source": [
    "Про pathlib можно почитать [тут](https://treyhunner.com/2018/12/why-you-should-be-using-pathlib/)."
   ]
  },
  {
   "cell_type": "markdown",
   "metadata": {},
   "source": [
    "**Способ 4**\n",
    "\n",
    "Двигаемся дальше.\n",
    "\n",
    "Воспользуемся возможностями оболочки IPython:"
   ]
  },
  {
   "cell_type": "code",
   "execution_count": null,
   "metadata": {},
   "outputs": [],
   "source": [
    "!ls -a ./"
   ]
  },
  {
   "cell_type": "markdown",
   "metadata": {},
   "source": [
    "Можем получить содержимое каталога и оставить в нем только подкаталоги (про grep писал ранее [тут](http://blog.dfedorov.spb.ru/all/poluchit-identifikatory-processov-prinadlezhaschih-polzovatelyu/)):"
   ]
  },
  {
   "cell_type": "code",
   "execution_count": null,
   "metadata": {},
   "outputs": [],
   "source": [
    "file_list = !ls -a ./\n",
    "file_list.grep(os.path.isdir) # os.path.isfile"
   ]
  },
  {
   "cell_type": "markdown",
   "metadata": {},
   "source": [
    "Это победа! "
   ]
  }
 ],
 "metadata": {
  "kernelspec": {
   "display_name": "Python 3",
   "language": "python",
   "name": "python3"
  },
  "language_info": {
   "codemirror_mode": {
    "name": "ipython",
    "version": 3
   },
   "file_extension": ".py",
   "mimetype": "text/x-python",
   "name": "python",
   "nbconvert_exporter": "python",
   "pygments_lexer": "ipython3",
   "version": "3.7.3"
  }
 },
 "nbformat": 4,
 "nbformat_minor": 4
}
