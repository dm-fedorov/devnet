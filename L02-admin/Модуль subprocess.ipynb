{
 "cells": [
  {
   "cell_type": "code",
   "execution_count": null,
   "metadata": {},
   "outputs": [],
   "source": [
    "# https://pyneng.readthedocs.io/ru/latest/book/12_useful_modules/subprocess.html"
   ]
  },
  {
   "cell_type": "markdown",
   "metadata": {},
   "source": [
    "Модуль subprocess позволяет создавать новые процессы. При этом он может подключаться к [стандартным потокам ввода/вывода/ошибок](http://xgu.ru/wiki/stdin) и получать код возврата.\n",
    "\n",
    "С помощью subprocess можно, например, выполнять любые команды Linux из скрипта. И в зависимости от ситуации получать вывод или только проверять, что команда выполнилась без ошибок."
   ]
  },
  {
   "cell_type": "markdown",
   "metadata": {},
   "source": [
    "Самый простой вариант использования функции - запуск её таким образом:"
   ]
  },
  {
   "cell_type": "code",
   "execution_count": null,
   "metadata": {},
   "outputs": [],
   "source": [
    "import subprocess"
   ]
  },
  {
   "cell_type": "code",
   "execution_count": null,
   "metadata": {},
   "outputs": [],
   "source": [
    "result = subprocess.run('ls')"
   ]
  },
  {
   "cell_type": "markdown",
   "metadata": {},
   "source": [
    "В переменной result теперь содержится специальный объект CompletedProcess. Из этого объекта можно получить информацию о выполнении процесса, например, о коде возврата:"
   ]
  },
  {
   "cell_type": "code",
   "execution_count": null,
   "metadata": {},
   "outputs": [],
   "source": [
    "result"
   ]
  },
  {
   "cell_type": "code",
   "execution_count": null,
   "metadata": {},
   "outputs": [],
   "source": [
    "result.returncode"
   ]
  },
  {
   "cell_type": "markdown",
   "metadata": {},
   "source": [
    "Код 0 означает, что программа выполнилась успешно.\n",
    "\n",
    "Если необходимо вызвать команду с аргументами, её нужно передавать таким образом (как список):"
   ]
  },
  {
   "cell_type": "code",
   "execution_count": null,
   "metadata": {},
   "outputs": [],
   "source": [
    "result = subprocess.run(['ls', '-ls'])"
   ]
  },
  {
   "cell_type": "markdown",
   "metadata": {},
   "source": [
    "При попытке выполнить команду с использованием wildcard-выражений, например, использовать *, возникнет ошибка:"
   ]
  },
  {
   "cell_type": "code",
   "execution_count": null,
   "metadata": {},
   "outputs": [],
   "source": [
    "result = subprocess.run(['ls', '-ls', '*py'])"
   ]
  },
  {
   "cell_type": "markdown",
   "metadata": {},
   "source": [
    "Чтобы вызывать команды, в которых используются wildcard-выражения, нужно добавлять аргумент shell и вызывать команду таким образом:"
   ]
  },
  {
   "cell_type": "code",
   "execution_count": null,
   "metadata": {},
   "outputs": [],
   "source": [
    "result = subprocess.run('ls -ls *py', shell=True)"
   ]
  },
  {
   "cell_type": "markdown",
   "metadata": {},
   "source": [
    "Ещё одна особенность функции run() - она ожидает завершения выполнения команды. Если попробовать, например, запустить команду ping, то этот аспект будет заметен:"
   ]
  },
  {
   "cell_type": "code",
   "execution_count": null,
   "metadata": {},
   "outputs": [],
   "source": [
    "result = subprocess.run(['ping', '-c', '3', '-n', 'ya.ru'])"
   ]
  },
  {
   "cell_type": "markdown",
   "metadata": {},
   "source": [
    "По умолчанию функция run возвращает результат выполнения команды на стандартный поток вывода. Если нужно получить результат выполнения команды, надо добавить аргумент stdout и указать ему значение subprocess.PIPE:"
   ]
  },
  {
   "cell_type": "code",
   "execution_count": null,
   "metadata": {},
   "outputs": [],
   "source": [
    "result = subprocess.run(['ls', '-ls'], stdout=subprocess.PIPE)"
   ]
  },
  {
   "cell_type": "markdown",
   "metadata": {},
   "source": [
    "Теперь можно получить результат выполнения команды таким образом:"
   ]
  },
  {
   "cell_type": "code",
   "execution_count": null,
   "metadata": {},
   "outputs": [],
   "source": [
    "print(result.stdout)"
   ]
  },
  {
   "cell_type": "markdown",
   "metadata": {},
   "source": [
    "Обратите внимание на букву b перед строкой. Она означает, что модуль вернул вывод в виде байтовой строки. Для перевода её в unicode есть два варианта:\n",
    "\n",
    "- выполнить decode полученной строки\n",
    "- указать аргумент encoding\n",
    "\n",
    "Вариант с decode:"
   ]
  },
  {
   "cell_type": "code",
   "execution_count": null,
   "metadata": {},
   "outputs": [],
   "source": [
    "print(result.stdout.decode('utf-8'))"
   ]
  },
  {
   "cell_type": "markdown",
   "metadata": {},
   "source": [
    "Вариант с encoding:"
   ]
  },
  {
   "cell_type": "code",
   "execution_count": null,
   "metadata": {},
   "outputs": [],
   "source": [
    "result = subprocess.run(['ls', '-ls'], stdout=subprocess.PIPE, encoding='utf-8')\n",
    "print(result.stdout)"
   ]
  },
  {
   "cell_type": "markdown",
   "metadata": {},
   "source": [
    "Иногда достаточно получения кода возврата и нужно отключить вывод результата выполнения на стандартный поток вывода, и при этом сам результат не нужен. Это можно сделать, передав функции run аргумент stdout со значением subprocess.DEVNULL:"
   ]
  },
  {
   "cell_type": "code",
   "execution_count": null,
   "metadata": {},
   "outputs": [],
   "source": [
    "result = subprocess.run(['ls', '-ls'], stdout=subprocess.DEVNULL)\n",
    "print(result.stdout)\n",
    "print(result.returncode)"
   ]
  },
  {
   "cell_type": "markdown",
   "metadata": {},
   "source": [
    "Если команда была выполнена с ошибкой или не отработала корректно, вывод команды попадет на стандартный поток ошибок.\n",
    "\n",
    "Получить этот вывод можно так же, как и стандартный поток вывода:"
   ]
  },
  {
   "cell_type": "code",
   "execution_count": null,
   "metadata": {},
   "outputs": [],
   "source": [
    "result = subprocess.run(['ping', '-c', '3', '-n', 'a'], stderr=subprocess.PIPE, encoding='utf-8')"
   ]
  },
  {
   "cell_type": "markdown",
   "metadata": {},
   "source": [
    "Теперь в result.stdout пустая строка, а в result.stderr находится стандартный поток вывода:\n",
    "\n"
   ]
  },
  {
   "cell_type": "code",
   "execution_count": null,
   "metadata": {},
   "outputs": [],
   "source": [
    "print(result.stdout)\n",
    "print(result.stderr)\n",
    "print(result.returncode)"
   ]
  },
  {
   "cell_type": "markdown",
   "metadata": {},
   "source": [
    "Пример использования модуля subprocess (файл subprocess_run_basic.py):"
   ]
  },
  {
   "cell_type": "code",
   "execution_count": null,
   "metadata": {},
   "outputs": [],
   "source": [
    "%%writefile subprocess_run_basic.py\n",
    "import subprocess\n",
    "\n",
    "reply = subprocess.run(['ping', '-c', '3', '-n', 'ya.ru'])\n",
    "\n",
    "if reply.returncode == 0:\n",
    "    print('Alive')\n",
    "else:\n",
    "    print('Unreachable')"
   ]
  },
  {
   "cell_type": "code",
   "execution_count": null,
   "metadata": {},
   "outputs": [],
   "source": [
    "%run subprocess_run_basic.py"
   ]
  },
  {
   "cell_type": "markdown",
   "metadata": {},
   "source": [
    "То есть, результат выполнения команды выводится на стандартный поток вывода."
   ]
  },
  {
   "cell_type": "markdown",
   "metadata": {},
   "source": [
    "Функция ping_ip проверяет доступность IP-адреса и возвращает True и stdout, если адрес доступен, или False и stderr, если адрес недоступен (файл subprocess_ping_function.py):"
   ]
  },
  {
   "cell_type": "code",
   "execution_count": null,
   "metadata": {},
   "outputs": [],
   "source": [
    "%%writefile subprocess_ping_function.py\n",
    "import subprocess\n",
    "\n",
    "def ping_ip(ip_address):\n",
    "    \"\"\"\n",
    "    Ping IP address and return tuple:\n",
    "    On success:\n",
    "        * True\n",
    "        * command output (stdout)\n",
    "    On failure:\n",
    "        * False\n",
    "        * error output (stderr)\n",
    "    \"\"\"\n",
    "    reply = subprocess.run(['ping', '-c', '3', '-n', ip_address],\n",
    "                           stdout=subprocess.PIPE,\n",
    "                           stderr=subprocess.PIPE,\n",
    "                           encoding='utf-8')\n",
    "    if reply.returncode == 0:\n",
    "        return True, reply.stdout\n",
    "    else:\n",
    "        return False, reply.stderr\n",
    "\n",
    "print(ping_ip('ya.ru'))\n",
    "print(ping_ip('a'))"
   ]
  },
  {
   "cell_type": "code",
   "execution_count": null,
   "metadata": {},
   "outputs": [],
   "source": [
    "%run subprocess_ping_function.py"
   ]
  },
  {
   "cell_type": "markdown",
   "metadata": {},
   "source": [
    "На основе этой функции, можно сделать функцию, которая будет проверять список IP-адресов и возвращать в результате выполнения два списка: доступные и недоступные адреса."
   ]
  },
  {
   "cell_type": "markdown",
   "metadata": {},
   "source": [
    "Если количество IP-адресов, которые нужно проверить, большое, можно использовать модуль threading или multiprocessing, чтобы ускорить проверку."
   ]
  },
  {
   "cell_type": "code",
   "execution_count": 26,
   "metadata": {},
   "outputs": [
    {
     "name": "stdout",
     "output_type": "stream",
     "text": [
      "Файловая система 1K-блоков Использовано Доступно Использовано% Cмонтировано в\n",
      "udev               4058376            0  4058376            0% /dev\n",
      "tmpfs               814308        10212   804096            2% /run\n",
      "/dev/sda1        952159836    877006272 26716728           98% /\n",
      "tmpfs              4071540       137944  3933596            4% /dev/shm\n",
      "tmpfs                 5120            4     5116            1% /run/lock\n",
      "tmpfs              4071540            0  4071540            0% /sys/fs/cgroup\n",
      "tmpfs               814308           16   814292            1% /run/user/116\n",
      "tmpfs               814308           56   814252            1% /run/user/1000\n",
      "\n",
      "0\n"
     ]
    }
   ],
   "source": [
    "import subprocess\n",
    "\n",
    "result = subprocess.run(\"df -k\", shell=True, stdout=subprocess.PIPE, encoding='utf-8')\n",
    "print(result.stdout)\n",
    "print(result.returncode)"
   ]
  },
  {
   "cell_type": "code",
   "execution_count": null,
   "metadata": {},
   "outputs": [],
   "source": [
    "import subprocess\n",
    "\n",
    "result = subprocess.run(\"du -hs $HOME\", shell=True, stdout=subprocess.PIPE, encoding='utf-8')\n",
    "print(result.stdout)\n",
    "print(result.returncode)"
   ]
  },
  {
   "cell_type": "code",
   "execution_count": 28,
   "metadata": {},
   "outputs": [
    {
     "data": {
      "text/plain": [
       "'Linux #1 SMP Debian 4.9.228-1 (2020-07-05)'"
      ]
     },
     "execution_count": 28,
     "metadata": {},
     "output_type": "execute_result"
    }
   ],
   "source": [
    "import subprocess\n",
    "\n",
    "res = subprocess.Popen(['uname', '-sv'], stdout=subprocess.PIPE, encoding='utf-8')\n",
    "uname = res.stdout.read().strip()\n",
    "uname"
   ]
  },
  {
   "cell_type": "code",
   "execution_count": 29,
   "metadata": {},
   "outputs": [
    {
     "data": {
      "text/plain": [
       "True"
      ]
     },
     "execution_count": 29,
     "metadata": {},
     "output_type": "execute_result"
    }
   ],
   "source": [
    "'Linux' in uname"
   ]
  },
  {
   "cell_type": "code",
   "execution_count": 30,
   "metadata": {},
   "outputs": [
    {
     "data": {
      "text/plain": [
       "['Linux', '#1', 'SMP', 'Debian', '4.9.228-1', '(2020-07-05)']"
      ]
     },
     "execution_count": 30,
     "metadata": {},
     "output_type": "execute_result"
    }
   ],
   "source": [
    "uname.split()"
   ]
  },
  {
   "cell_type": "code",
   "execution_count": 31,
   "metadata": {},
   "outputs": [
    {
     "name": "stdout",
     "output_type": "stream",
     "text": [
      "Gathering system information with uname command:\n",
      "\n",
      "CompletedProcess(args=['uname', '-sv'], returncode=0, stdout=b'Linux #1 SMP Debian 4.9.228-1 (2020-07-05)\\n')\n"
     ]
    }
   ],
   "source": [
    "import subprocess\n",
    "\n",
    "uname = \"uname\"\n",
    "uname_arg = \"-sv\"\n",
    "print(f\"Gathering system information with {uname} command:\\n\")\n",
    "result = subprocess.run([uname, uname_arg], stdout=subprocess.PIPE)\n",
    "print(result)"
   ]
  },
  {
   "cell_type": "code",
   "execution_count": null,
   "metadata": {},
   "outputs": [],
   "source": []
  }
 ],
 "metadata": {
  "kernelspec": {
   "display_name": "Python 3",
   "language": "python",
   "name": "python3"
  },
  "language_info": {
   "codemirror_mode": {
    "name": "ipython",
    "version": 3
   },
   "file_extension": ".py",
   "mimetype": "text/x-python",
   "name": "python",
   "nbconvert_exporter": "python",
   "pygments_lexer": "ipython3",
   "version": "3.7.3"
  }
 },
 "nbformat": 4,
 "nbformat_minor": 4
}
