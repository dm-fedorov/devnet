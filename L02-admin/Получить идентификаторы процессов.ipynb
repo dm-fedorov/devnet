{
 "cells": [
  {
   "cell_type": "markdown",
   "metadata": {},
   "source": [
    "### Получить идентификаторы процессов, принадлежащих пользователю"
   ]
  },
  {
   "cell_type": "markdown",
   "metadata": {},
   "source": [
    "Вывести информацию о всех выполняющихся процессах можно с помощью UNIX-команды ```ps aux```:"
   ]
  },
  {
   "cell_type": "code",
   "execution_count": null,
   "metadata": {},
   "outputs": [],
   "source": [
    "!ps aux"
   ]
  },
  {
   "cell_type": "markdown",
   "metadata": {},
   "source": [
    "Проведем фильтрацию с помощью Python (мы же питонисты!). \n",
    "\n",
    "Для начала необходимо понять, каким образом результат командной оболочки ОС преобразуется в типы данных Python:"
   ]
  },
  {
   "cell_type": "code",
   "execution_count": null,
   "metadata": {},
   "outputs": [],
   "source": [
    "ps = !ps aux\n",
    "type(ps)"
   ]
  },
  {
   "cell_type": "markdown",
   "metadata": {},
   "source": [
    "Получили тип данных, встроенный в IPython. \n",
    "\n",
    "Смотрим [документацию](https://ipython.readthedocs.io/en/stable/api/generated/IPython.utils.text.html).\n",
    "\n",
    "Читаем, что ```IPython.utils.text.SList``` наследуется от класса ```list``` и является обычным списком с несколькими атрибутами.\n",
    "\n",
    "Нам может пригодиться метод ```grep``` для поиска по шаблону:"
   ]
  },
  {
   "cell_type": "code",
   "execution_count": null,
   "metadata": {},
   "outputs": [],
   "source": [
    "ps.grep('watchdog') # prune=True - за исключением "
   ]
  },
  {
   "cell_type": "markdown",
   "metadata": {},
   "source": [
    "и метод ```fields``` для выбора определенных столбцов, разделенных пробелом:"
   ]
  },
  {
   "cell_type": "code",
   "execution_count": null,
   "metadata": {},
   "outputs": [],
   "source": [
    "ps.grep('watchdog').fields(-1)"
   ]
  },
  {
   "cell_type": "markdown",
   "metadata": {},
   "source": [
    "Теперь можем перейти к получению ```PID``` для заданного пользователя.\n",
    "\n",
    "Из нулевого столбца выберем все строки, где встречается имя пользователя (0) и оставим столбец (1) с идентификатором процесса:"
   ]
  },
  {
   "cell_type": "code",
   "execution_count": null,
   "metadata": {},
   "outputs": [],
   "source": [
    "ps.fields(0, 1).grep('dmf').fields(1)"
   ]
  },
  {
   "cell_type": "markdown",
   "metadata": {},
   "source": [
    "Более элегантное решение (в ```gpep``` указывается аргумент - столбец, по которому производится поиск):"
   ]
  },
  {
   "cell_type": "code",
   "execution_count": null,
   "metadata": {},
   "outputs": [],
   "source": [
    "ps.grep('dmf', field=0).fields(1)"
   ]
  },
  {
   "cell_type": "markdown",
   "metadata": {},
   "source": [
    "В командной облочке Linux с использованием awk:"
   ]
  },
  {
   "cell_type": "code",
   "execution_count": null,
   "metadata": {},
   "outputs": [],
   "source": [
    "%%bash\n",
    "\n",
    "ps aux | awk '{if ($1 == \"dmf\") print $2}'"
   ]
  },
  {
   "cell_type": "code",
   "execution_count": null,
   "metadata": {},
   "outputs": [],
   "source": []
  }
 ],
 "metadata": {
  "kernelspec": {
   "display_name": "Python 3",
   "language": "python",
   "name": "python3"
  },
  "language_info": {
   "codemirror_mode": {
    "name": "ipython",
    "version": 3
   },
   "file_extension": ".py",
   "mimetype": "text/x-python",
   "name": "python",
   "nbconvert_exporter": "python",
   "pygments_lexer": "ipython3",
   "version": "3.7.3"
  }
 },
 "nbformat": 4,
 "nbformat_minor": 4
}
