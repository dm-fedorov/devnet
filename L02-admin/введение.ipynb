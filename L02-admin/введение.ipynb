{
 "cells": [
  {
   "cell_type": "markdown",
   "metadata": {},
   "source": [
    "Можно выполнять в оболочке IPython"
   ]
  },
  {
   "cell_type": "markdown",
   "metadata": {},
   "source": [
    "Проверяем, является ли заданный путь к файлу каталогом:"
   ]
  },
  {
   "cell_type": "code",
   "execution_count": 3,
   "metadata": {},
   "outputs": [
    {
     "name": "stdout",
     "output_type": "stream",
     "text": [
      "/tmp is a directory\n"
     ]
    }
   ],
   "source": [
    "import os\n",
    "if os.path.isdir(\"/tmp\"):\n",
    "    print(\"/tmp is a directory\")\n",
    "else:\n",
    "    print(\"/tmp is not a directory\")"
   ]
  },
  {
   "cell_type": "code",
   "execution_count": 7,
   "metadata": {},
   "outputs": [
    {
     "name": "stdout",
     "output_type": "stream",
     "text": [
      "Writing test_dir.py\n"
     ]
    }
   ],
   "source": [
    "%%writefile test_dir.py\n",
    "import os\n",
    "if os.path.isdir(\"/tmp\"):\n",
    "    print(\"/tmp is a directory\")\n",
    "else:\n",
    "    print(\"/tmp is not a directory\")"
   ]
  },
  {
   "cell_type": "code",
   "execution_count": 8,
   "metadata": {},
   "outputs": [
    {
     "name": "stdout",
     "output_type": "stream",
     "text": [
      "/tmp is a directory\n"
     ]
    }
   ],
   "source": [
    "%run test_dir.py"
   ]
  },
  {
   "cell_type": "markdown",
   "metadata": {},
   "source": [
    "Пример работы в ООП стиле:"
   ]
  },
  {
   "cell_type": "code",
   "execution_count": 6,
   "metadata": {},
   "outputs": [
    {
     "name": "stdout",
     "output_type": "stream",
     "text": [
      "Pinging 192.168.1.15 from 192.168.1.20 (bumbly)\n"
     ]
    }
   ],
   "source": [
    "class Server():\n",
    "    def __init__(self, ip, hostname):\n",
    "        self.ip = ip\n",
    "        self.hostname = hostname\n",
    "    def set_ip(self, ip):\n",
    "        self.ip = ip\n",
    "    def set_hostname(self, hostname):\n",
    "        self.hostname = hostname\n",
    "    def ping(self, ip_addr):\n",
    "        print(f\"Pinging {ip_addr} from {self.ip} ({self.hostname})\")\n",
    "\n",
    "if __name__ == '__main__':\n",
    "    server = Server('192.168.1.20', 'bumbly')\n",
    "    server.ping('192.168.1.15')"
   ]
  },
  {
   "cell_type": "code",
   "execution_count": 14,
   "metadata": {},
   "outputs": [
    {
     "name": "stdout",
     "output_type": "stream",
     "text": [
      "  PID TTY          TIME CMD\n",
      " 8675 pts/1    00:00:00 ps\n"
     ]
    }
   ],
   "source": [
    "!ps"
   ]
  },
  {
   "cell_type": "markdown",
   "metadata": {},
   "source": [
    "Сценарий сбора информации о системе:"
   ]
  },
  {
   "cell_type": "code",
   "execution_count": 1,
   "metadata": {},
   "outputs": [
    {
     "name": "stdout",
     "output_type": "stream",
     "text": [
      "Файловая система Размер Использовано  Дост Использовано% Cмонтировано в\n",
      "udev               3,9G            0  3,9G            0% /dev\n",
      "tmpfs              796M         9,6M  786M            2% /run\n",
      "/dev/sda1          909G         820G   43G           96% /\n",
      "tmpfs              3,9G         194M  3,7G            5% /dev/shm\n",
      "tmpfs              5,0M         4,0K  5,0M            1% /run/lock\n",
      "tmpfs              3,9G            0  3,9G            0% /sys/fs/cgroup\n",
      "tmpfs              796M          16K  796M            1% /run/user/116\n",
      "tmpfs              796M          24K  796M            1% /run/user/1000\n"
     ]
    }
   ],
   "source": [
    "!df -h"
   ]
  },
  {
   "cell_type": "code",
   "execution_count": 6,
   "metadata": {},
   "outputs": [
    {
     "name": "stdout",
     "output_type": "stream",
     "text": [
      "['about_ip.ipynb', 'disk_info.py', 'test_dir.py', 'введение.ipynb']\n",
      "4\n"
     ]
    }
   ],
   "source": [
    "list_files = !ls\n",
    "print(list_files)\n",
    "print(len(list_files))"
   ]
  },
  {
   "cell_type": "code",
   "execution_count": 1,
   "metadata": {},
   "outputs": [
    {
     "name": "stdout",
     "output_type": "stream",
     "text": [
      "about_ip.ipynb\tdisk_info.py  ipython  test_dir.py  введение.ipynb\n"
     ]
    }
   ],
   "source": [
    "!ls"
   ]
  },
  {
   "cell_type": "code",
   "execution_count": 3,
   "metadata": {},
   "outputs": [
    {
     "name": "stdout",
     "output_type": "stream",
     "text": [
      "about_ip.ipynb\tdisk_info.py  ipython  test_dir.py  введение.ipynb\n"
     ]
    }
   ],
   "source": [
    "!ls"
   ]
  },
  {
   "cell_type": "code",
   "execution_count": null,
   "metadata": {},
   "outputs": [],
   "source": []
  }
 ],
 "metadata": {
  "kernelspec": {
   "display_name": "Python 3",
   "language": "python",
   "name": "python3"
  },
  "language_info": {
   "codemirror_mode": {
    "name": "ipython",
    "version": 3
   },
   "file_extension": ".py",
   "mimetype": "text/x-python",
   "name": "python",
   "nbconvert_exporter": "python",
   "pygments_lexer": "ipython3",
   "version": "3.7.3"
  }
 },
 "nbformat": 4,
 "nbformat_minor": 4
}
