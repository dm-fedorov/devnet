{
 "cells": [
  {
   "cell_type": "markdown",
   "metadata": {},
   "source": [
    "Можно выполнять в оболочке IPython"
   ]
  },
  {
   "cell_type": "markdown",
   "metadata": {},
   "source": [
    "Проверяем, является ли заданный путь к файлу каталогом:"
   ]
  },
  {
   "cell_type": "code",
   "execution_count": null,
   "metadata": {},
   "outputs": [],
   "source": [
    "import os\n",
    "if os.path.isdir(\"/tmp\"):\n",
    "    print(\"/tmp is a directory\")\n",
    "else:\n",
    "    print(\"/tmp is not a directory\")"
   ]
  },
  {
   "cell_type": "code",
   "execution_count": null,
   "metadata": {},
   "outputs": [],
   "source": [
    "%%writefile test_dir.py\n",
    "import os\n",
    "if os.path.isdir(\"/tmp\"):\n",
    "    print(\"/tmp is a directory\")\n",
    "else:\n",
    "    print(\"/tmp is not a directory\")"
   ]
  },
  {
   "cell_type": "code",
   "execution_count": null,
   "metadata": {},
   "outputs": [],
   "source": [
    "%run test_dir.py"
   ]
  },
  {
   "cell_type": "markdown",
   "metadata": {},
   "source": [
    "Пример работы в ООП стиле:"
   ]
  },
  {
   "cell_type": "code",
   "execution_count": null,
   "metadata": {},
   "outputs": [],
   "source": [
    "class Server():\n",
    "    def __init__(self, ip, hostname):\n",
    "        self.ip = ip\n",
    "        self.hostname = hostname\n",
    "    def set_ip(self, ip):\n",
    "        self.ip = ip\n",
    "    def set_hostname(self, hostname):\n",
    "        self.hostname = hostname\n",
    "    def ping(self, ip_addr):\n",
    "        print(f\"Pinging {ip_addr} from {self.ip} ({self.hostname})\")\n",
    "\n",
    "if __name__ == '__main__':\n",
    "    server = Server('192.168.1.20', 'bumbly')\n",
    "    server.ping('192.168.1.15')"
   ]
  },
  {
   "cell_type": "code",
   "execution_count": null,
   "metadata": {},
   "outputs": [],
   "source": [
    "!ps"
   ]
  },
  {
   "cell_type": "markdown",
   "metadata": {},
   "source": [
    "Сценарий сбора информации о системе:"
   ]
  },
  {
   "cell_type": "code",
   "execution_count": null,
   "metadata": {},
   "outputs": [],
   "source": [
    "!df -h"
   ]
  },
  {
   "cell_type": "code",
   "execution_count": null,
   "metadata": {},
   "outputs": [],
   "source": [
    "list_files = !ls\n",
    "print(list_files)\n",
    "print(len(list_files))"
   ]
  },
  {
   "cell_type": "code",
   "execution_count": null,
   "metadata": {},
   "outputs": [],
   "source": []
  },
  {
   "cell_type": "code",
   "execution_count": null,
   "metadata": {},
   "outputs": [],
   "source": []
  }
 ],
 "metadata": {
  "kernelspec": {
   "display_name": "Python 3",
   "language": "python",
   "name": "python3"
  },
  "language_info": {
   "codemirror_mode": {
    "name": "ipython",
    "version": 3
   },
   "file_extension": ".py",
   "mimetype": "text/x-python",
   "name": "python",
   "nbconvert_exporter": "python",
   "pygments_lexer": "ipython3",
   "version": "3.7.3"
  }
 },
 "nbformat": 4,
 "nbformat_minor": 4
}
